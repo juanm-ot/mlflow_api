{
 "cells": [
  {
   "cell_type": "markdown",
   "id": "ad3369ab-42c2-4044-bf90-546d3a3765c5",
   "metadata": {},
   "source": [
    "# API WORKFLOW: SKLEARN LOGISTIC REGRESSION"
   ]
  },
  {
   "cell_type": "markdown",
   "id": "664e61d8-9271-43cd-a48a-2bed861b88ca",
   "metadata": {},
   "source": [
    "## Codigo base"
   ]
  },
  {
   "cell_type": "code",
   "execution_count": 1,
   "id": "404269bc-c617-4adf-89eb-eda5d2522ff8",
   "metadata": {},
   "outputs": [
    {
     "name": "stdout",
     "output_type": "stream",
     "text": [
      "For chi2 test, choosen variables are ['item_post', 'swap_offers_sent']\n",
      "MLflow run ID: 05785e0a5d554e11ab9023874c5dcd1d\n",
      "LogisticRegression(C=10, fit_intercept=False, max_iter=500, multi_class='ovr',\n",
      "                   tol=0.001):\n",
      "------------------------------------\n",
      "El accuracy score es 0.9485\n",
      "El accuracy balanced score es 0.853\n",
      "El recall score es 0.733\n",
      "El precision score es 0.7557\n",
      "El f1_score es 0.7442\n",
      "El área bajo la curva ROC es 0.853\n"
     ]
    },
    {
     "name": "stderr",
     "output_type": "stream",
     "text": [
      "Registered model 'sklearn-10-logistic-regressor-model' already exists. Creating a new version of this model...\n",
      "2023/03/26 01:29:45 INFO mlflow.tracking._model_registry.client: Waiting up to 300 seconds for model version to finish creation.                     Model name: sklearn-10-logistic-regressor-model, version 3\n",
      "Created version '3' of model 'sklearn-10-logistic-regressor-model'.\n"
     ]
    }
   ],
   "source": [
    "import pandas as pd\n",
    "\n",
    "#Funcion de carga, filtrado en funcion de la logica del negocio y asignacion de class segun ofertas aceptadas\n",
    "def load_data():\n",
    "\n",
    "    import pandas as pd\n",
    "\n",
    "    df = pd.read_csv(\"2023-09-15_duplicate_2.csv\")\n",
    "\n",
    "    df = df[df[\"last_seen\"]>= '2022-01-01']\n",
    "    df.loc[df['accepted'] > 0.0, 'classification'] = 1\n",
    "    df.loc[df['accepted'] == 0.0, 'classification'] = 0\n",
    "    df['classification'] = df['classification'].astype('int32')\n",
    "\n",
    "\n",
    "    return df\n",
    "\n",
    "\n",
    "#Funcion para optimizar el desequilibrio de datos, filtrando una porcion de los non_interaction con la totalidad de accepted\n",
    "def balance_data():\n",
    "\n",
    "    df = load_data()\n",
    "\n",
    "    non_interaction_quantity = len(df[df.classification == 0])\n",
    "    accepted_quantity = len(df[df.classification == 1])\n",
    "\n",
    "    non_interaction_data = df[df[\"classification\"] == 0]\n",
    "    accepted_data = df[df[\"classification\"] == 1]\n",
    "\n",
    "    non_interaction_factor = 0.9 \n",
    "    accepted_factor = 1 - non_interaction_factor\n",
    "\n",
    "    non_interaction_quantity = int(accepted_quantity * non_interaction_factor /accepted_factor )\n",
    "\n",
    "    non_interaction_partion = non_interaction_data.sample(n=non_interaction_quantity)\n",
    "    balance_df = pd.concat([non_interaction_partion, accepted_data])\n",
    "\n",
    "    \n",
    "    return balance_df\n",
    "\n",
    "#Funcion para definir los datos que entran en el modelo \n",
    "def var_definition():\n",
    "    \n",
    "    balance_df = balance_data()\n",
    "\n",
    "    from sklearn.preprocessing import MinMaxScaler\n",
    "    from sklearn.feature_selection import SelectKBest, chi2, f_classif\n",
    "\n",
    "    y = balance_df[\"classification\"].to_numpy()\n",
    "    x = balance_df.drop([\"classification\",\"last_login\",\"last_seen\",\"validation_state\",\"town\",\"state\"], axis = 1).to_numpy()\n",
    "\n",
    "    scaler = MinMaxScaler(feature_range=(0, 1))\n",
    "    scaler.fit(x)\n",
    "    x_normal = scaler.transform(x)\n",
    "\n",
    "    selectKBest = SelectKBest(chi2, k=2) \n",
    "    x = selectKBest.fit_transform(x_normal, y)\n",
    "\n",
    "    cols = selectKBest.get_support(indices=True)\n",
    "    variables = balance_df.iloc[:,cols].columns\n",
    "\n",
    "    x_new = pd.DataFrame(x, columns = variables)\n",
    "    y_new = pd.DataFrame(y, columns = [\"classification\"])\n",
    "\n",
    "    print(f\"For chi2 test, choosen variables are {str(list(variables))}\")\n",
    "\n",
    "\n",
    "    return x_new, y_new\n",
    "\n",
    "#Función para particionar los datos\n",
    "def make_train_test_split(x_new, y_new):\n",
    "\n",
    "    from sklearn.model_selection import train_test_split\n",
    "\n",
    "    (x_train, x_test, y_train, y_test) = train_test_split(\n",
    "                                                          x_new,\n",
    "                                                          y_new,\n",
    "                                                          test_size=0.2,\n",
    "                                                          random_state=123456,\n",
    "                                                          shuffle = True\n",
    "                                                      )\n",
    "\n",
    "    return x_train, x_test, y_train, y_test\n",
    "\n",
    "\n",
    "#Calculo de metricas de evaluacion\n",
    "def eval_metrics(y_test, y_pred):\n",
    "\n",
    "    from sklearn.metrics import mean_squared_error,accuracy_score, recall_score, precision_score,balanced_accuracy_score,f1_score,fbeta_score,classification_report\n",
    "    from sklearn.metrics import auc, roc_auc_score, roc_curve\n",
    "    \n",
    "    asc = accuracy_score(\n",
    "                          # Ground truth (correct) labels.\n",
    "                          y_true=y_test,\n",
    "                          # Predicted labels, as returned by a classifier.\n",
    "                          y_pred=y_pred,\n",
    "                          # If False, return the number of correctly classified samples. Otherwise,return the fraction of correctly classified samples.\n",
    "                          normalize=True,\n",
    "                          )\n",
    "    bas = balanced_accuracy_score(y_test,y_pred)\n",
    "    rs = recall_score(y_test, y_pred)\n",
    "    ps = precision_score(y_test, y_pred)\n",
    "    f1 = f1_score(y_test, y_pred)\n",
    "    ras = roc_auc_score(y_test,y_pred)\n",
    "    \n",
    "    \n",
    "\n",
    "    return bas, asc, rs, ps, f1, ras\n",
    "\n",
    "#Enviamos reporte de metricas de evaluacion\n",
    "def report(estimator,bas, asc, rs, ps, f1, ras):\n",
    "\n",
    "    print(estimator, \":\", sep=\"\")\n",
    "    print(\"------------------------------------\")\n",
    "    print(f\"El accuracy score es {str(round(asc,4))}\")\n",
    "    print(f\"El accuracy balanced score es {str(round(bas,4))}\")\n",
    "    print(f\"El recall score es {str(round(rs,4))}\")\n",
    "    print(f\"El precision score es {str(round(ps,4))}\")\n",
    "    print(f\"El f1_score es {str(round(f1,4))}\")\n",
    "    print(f\"El área bajo la curva ROC es {str(round(ras,4))}\")\n",
    "    \n",
    "\n",
    "    #Tracking URI\n",
    "def set_tracking_uri():\n",
    "\n",
    "    import mlflow\n",
    "\n",
    "    mlflow.set_tracking_uri('sqlite:///mlruns.db')\n",
    "\n",
    "\n",
    "    #Display config \n",
    "def display_config():\n",
    "\n",
    "    import mlflow\n",
    "\n",
    "    print(\"Current model registry uri: {}\".format(mlflow.get_registry_uri()))\n",
    "    print(\"      Current tracking uri: {}\".format(mlflow.get_tracking_uri()))\n",
    "\n",
    "\n",
    "    #Modelo\n",
    "def train_estimator( C=10, fit_intercept=False, max_iter=500):\n",
    "\n",
    "    import os\n",
    "    import pandas as pd\n",
    "\n",
    "    from sklearn.linear_model import LogisticRegression\n",
    "    \n",
    "\n",
    "    import mlflow\n",
    "    import mlflow.sklearn\n",
    "    \n",
    "\n",
    "    \"\"\"Load and split data\"\"\"\n",
    "    x_new, y_new = var_definition()\n",
    "    x_train, x_test, y_train, y_test = make_train_test_split(x_new, y_new)\n",
    "    \n",
    "    estimator = LogisticRegression(C=C, fit_intercept=fit_intercept, max_iter=max_iter ,\n",
    "                                       penalty = 'l2',multi_class='ovr', solver= 'lbfgs',tol = 0.001,random_state = None, verbose = 0, warm_start = False, l1_ratio = None)\n",
    "    \n",
    "    set_tracking_uri()\n",
    "    \n",
    "    with mlflow.start_run(run_name=\"DEMO_RUN\") as run:\n",
    "        \n",
    "        print(f\"MLflow run ID: {run.info.run_id}\")\n",
    "        \n",
    "        estimator.fit(x_train, y_train.values.ravel())\n",
    "        bas, asc, rs, ps, f1, ras = eval_metrics(y_test, y_pred=estimator.predict(x_test))\n",
    "        \n",
    "        report(estimator,bas, asc, rs, ps, f1, ras)\n",
    "    \n",
    "        \n",
    "        mlflow.log_param(\"C\", C)\n",
    "        mlflow.log_param(\"fit_intercept\",fit_intercept )\n",
    "        mlflow.log_param(\"max_iter\", max_iter)\n",
    "       \n",
    "        mlflow.log_metric(\"bas\", bas)\n",
    "        mlflow.log_metric(\"asc\", asc)\n",
    "        mlflow.log_metric(\"rs\", rs)\n",
    "        mlflow.log_metric(\"ps\", ps)\n",
    "        mlflow.log_metric(\"f1\", f1)\n",
    "        mlflow.log_metric(\"ras\", ras)\n",
    "\n",
    "        \n",
    "# Registro del modelo como version 1\n",
    "    \n",
    "        mlflow.sklearn.log_model(\n",
    "            sk_model=estimator,\n",
    "            artifact_path=\"model\",\n",
    "            registered_model_name=f\"sklearn-{C}-logistic-regressor-model\"\n",
    "        )\n",
    "\n",
    "        mlflow.sklearn.save_model(estimator, \"/tmp/my_model\")\n",
    "\n",
    "train_estimator( C = 10, fit_intercept = False, max_iter = 500)"
   ]
  },
  {
   "cell_type": "markdown",
   "id": "390f5c2c-dca5-4e03-a9f9-d981c250c169",
   "metadata": {},
   "source": [
    "## Cambio del estado a Productivo del modelo"
   ]
  },
  {
   "cell_type": "code",
   "execution_count": 4,
   "id": "32959d77-06b3-4889-8f37-8bb742bd8d24",
   "metadata": {},
   "outputs": [],
   "source": [
    "def change_name():\n",
    "\n",
    "    import mlflow\n",
    "\n",
    "    client = mlflow.tracking.MlflowClient()\n",
    "\n",
    "    client.transition_model_version_stage(\n",
    "        name=\"sklearn-10-logistic-regressor-model\",\n",
    "        version=1,\n",
    "        #  Staging|Archived|Production|None\n",
    "        stage=\"Production\",\n",
    "    )\n",
    "\n",
    "\n",
    "change_name()"
   ]
  },
  {
   "cell_type": "markdown",
   "id": "ae3b5b28-e49f-41e9-a64f-38aaebfcbc38",
   "metadata": {},
   "source": [
    "## Uso del modelo con models serve"
   ]
  },
  {
   "cell_type": "code",
   "execution_count": 5,
   "id": "c2fae97e-3fb8-45d3-932c-7a0b41959c54",
   "metadata": {},
   "outputs": [
    {
     "name": "stdout",
     "output_type": "stream",
     "text": [
      "For chi2 test, choosen variables are ['item_post', 'swap_offers_sent']\n"
     ]
    },
    {
     "data": {
      "text/plain": [
       "'\\'{\"columns\":[\"item_post\",\"swap_offers_sent\"],\"index\":[5938,7979,33308,9196,25758,20251,453,1494,32611,10066,21646,1845,18304,12295,6004,25151,6768,19036,6814,36691,15902,31961,24838,35530,16483,12480,20627,1832,3074,17745,4481,11679,34385,19588,7210,26391,6291,28995,20804,31839,10202,22803,18441,25722,17935,34610,28483,12900,33387,35273,36345,35349,29578,35392,13132,9095,26274,28424,16917,7320,33651,4999,28589,3447,29675,21881,19864,24094,13956,8089,36186,26468,22044,34903,11544,9471,8593,19465,16776,8594,27957,27576,25374,14294,29333,11530,3849,26343,21205,7369,135,29743,37045,35003,31270,11998,31928,31240,30725,919,9123,28566,25570,3467,23761,34012,24267,26622,24087,35680,9629,14419,12539,112,5593,23273,15012,24786,4001,11558,815,15590,26306,1520,27017,29400,167,14399,11170,8441,27939,22239,24099,24085,4212,9455,5048,29611,7768,27080,36753,12237,3431,26092,9334,3482,11405,29149,27154,36369,14428,9116,34318,34729,11122,1968,27959,32539,18902,21115,25264,17662,321,21109,22041,21097,27623,5536,22341,16365,23714,20326,32787,9743,3311,35565,20011,483,21185,15039,439,30770,31598,9553,24840,21972,8740,37371,25152,3070,2721,7253,34351,34197,22827,1045,34269,19262,36463,3269],\"data\":[[0.0,0.0],[0.0,0.0],[0.0,0.0],[0.0,0.0],[0.0,0.0],[0.0,0.0],[0.0,0.0],[0.0,0.0],[0.0,0.0],[0.2654580977,0.0109717868],[0.0,0.0],[0.0,0.0],[0.2994495689,0.0047021944],[0.0,0.0],[0.0,0.0],[0.0,0.0],[0.0,0.0],[0.0,0.0],[0.0,0.0],[0.0823523886,0.0423197492],[0.0,0.0],[0.0,0.0],[0.0,0.0],[0.0497285416,0.1943573668],[0.0,0.0],[0.0,0.0],[0.0,0.0],[0.0,0.0],[0.0,0.0],[0.0,0.0],[0.0,0.0],[0.0,0.0],[0.2660536154,0.868338558],[0.0,0.0],[0.0,0.0],[0.0,0.0],[0.0,0.0],[0.0,0.0],[0.0,0.0],[0.0,0.0],[0.0,0.0],[0.0,0.0],[0.0,0.0],[0.0,0.0],[0.0,0.0],[0.9740489564,0.0611285266],[0.0,0.0],[0.0,0.0],[0.0,0.0],[0.5024290357,0.1927899687],[0.700071387,0.0344827586],[0.2241644906,0.2319749216],[0.0,0.0],[0.8476301403,0.0501567398],[0.0,0.0],[0.0,0.0],[0.0,0.0],[0.0,0.0],[0.0,0.0],[0.0,0.0],[0.0,0.0],[0.0,0.0],[0.0,0.0],[0.0,0.0],[0.0,0.0],[0.0,0.0],[0.0,0.0],[0.0,0.0],[0.0,0.0],[0.0,0.0],[0.7339783209,0.0642633229],[0.0,0.0],[0.0,0.0],[0.5172944337,0.0062695925],[0.0,0.0],[0.0,0.0],[0.0,0.0],[0.0,0.0],[0.0,0.0],[0.0,0.0],[0.0,0.0],[0.0,0.0],[0.0,0.0],[0.0,0.0],[0.0,0.0],[0.0,0.0],[0.0,0.0],[0.0,0.0],[0.0,0.0],[0.0,0.0],[0.0,0.0],[0.0,0.0],[0.8218801075,0.0062695925],[0.2128139618,0.1253918495],[0.0,0.0],[0.0,0.0],[0.0,0.0],[0.0,0.0],[0.0,0.0],[0.0,0.0],[0.0,0.0],[0.0,0.0],[0.0,0.0],[0.0,0.0],[0.0,0.0],[0.1614209765,0.4294670846],[0.0,0.0],[0.0,0.0],[0.2651857001,0.3166144201],[0.5934004621,0.1034482759],[0.0,0.0],[0.0,0.0],[0.0,0.0],[0.0,0.0],[0.0,0.0],[0.0,0.0],[0.0,0.0],[0.0,0.0],[0.0,0.0],[0.0,0.0],[0.0,0.0],[0.0,0.0],[0.0,0.0],[0.4539403731,0.0094043887],[0.0,0.0],[0.0,0.0],[0.0,0.0],[0.0,0.0],[0.0,0.0],[0.0,0.0],[0.1987751498,0.0156739812],[0.0,0.0],[0.0,0.0],[0.0,0.0],[0.0,0.0],[0.0,0.0],[0.0,0.0],[0.0,0.0],[0.0,0.0],[0.0,0.0],[0.0446450377,0.131661442],[0.0,0.0],[0.0,0.0],[0.0,0.0],[0.0,0.0],[0.0,0.0],[0.0,0.0],[0.0,0.0],[0.0,0.0],[0.0488136612,0.0156739812],[0.0,0.0],[0.0,0.0],[0.2749619583,0.1504702194],[0.0613646184,0.4059561129],[0.0,0.0],[0.0,0.0],[0.0,0.0],[0.0,0.0],[0.0,0.0],[0.0,0.0],[0.0,0.0],[0.2872198531,0.0172413793],[0.0,0.0],[0.0,0.0],[0.0,0.0],[0.0,0.0],[0.0,0.0],[0.0,0.0],[0.0,0.0],[0.0,0.0],[0.0,0.0],[0.9586199771,0.0094043887],[0.0,0.0],[0.0,0.0],[0.0,0.0],[0.3408502564,0.1034482759],[0.0,0.0],[0.0,0.0],[0.0,0.0],[0.0,0.0],[0.0,0.0],[0.0,0.0],[0.0,0.0],[0.0,0.0],[0.0,0.0],[0.0,0.0],[0.0,0.0],[0.5758768387,0.0141065831],[0.0,0.0],[0.0,0.0],[0.0,0.0],[0.0,0.0],[0.0699780203,0.1833855799],[0.6057898593,0.2931034483],[0.0,0.0],[0.325383705,0.0815047022],[0.0572579888,1.0],[0.0,0.0],[0.1227329939,0.0517241379],[0.0,0.0]]}\\''"
      ]
     },
     "execution_count": 5,
     "metadata": {},
     "output_type": "execute_result"
    }
   ],
   "source": [
    "def get_json_test_data():\n",
    "\n",
    "    x_new, y_new = var_definition()\n",
    "    x_train, x_test, y_train, y_test = make_train_test_split(x_new, y_new)\n",
    "\n",
    "    data = x_test.iloc[0:200,:].to_json(orient='split')\n",
    "\n",
    "    data = repr(data)\n",
    "    return data\n",
    "\n",
    "data = get_json_test_data()\n",
    "data"
   ]
  },
  {
   "cell_type": "markdown",
   "id": "de6a3a93-a66e-4058-a647-166a7b01cc60",
   "metadata": {},
   "source": [
    "### Ahora prendemos el servidor de MLflow que sirve el API, para poder hacer el llamado al modelo\n",
    "\n",
    "```\n",
    "mlflow models serve --no-conda -m /tmp/my_model\n",
    "```"
   ]
  },
  {
   "cell_type": "code",
   "execution_count": 10,
   "id": "6873172c-2504-4cac-83b6-9415c873997f",
   "metadata": {},
   "outputs": [
    {
     "name": "stdout",
     "output_type": "stream",
     "text": [
      "[0, 0, 0, 0, 0, 0, 0, 0, 0, 0, 0, 0, 0, 0, 0, 0, 0, 0, 0, 1, 0, 0, 0, 1, 0, 0, 0, 0, 0, 0, 0, 0, 1, 0, 0, 0, 0, 0, 0, 0, 0, 0, 0, 0, 0, 0, 0, 0, 0, 1, 0, 1, 0, 0, 0, 0, 0, 0, 0, 0, 0, 0, 0, 0, 0, 0, 0, 0, 0, 0, 0, 0, 0, 0, 0, 0, 0, 0, 0, 0, 0, 0, 0, 0, 0, 0, 0, 0, 0, 0, 0, 0, 0, 1, 0, 0, 0, 0, 0, 0, 0, 0, 0, 0, 0, 1, 0, 0, 1, 1, 0, 0, 0, 0, 0, 0, 0, 0, 0, 0, 0, 0, 0, 0, 0, 0, 0, 0, 0, 0, 0, 0, 0, 0, 0, 0, 0, 0, 0, 0, 1, 0, 0, 0, 0, 0, 0, 0, 0, 1, 0, 0, 1, 1, 0, 0, 0, 0, 0, 0, 0, 0, 0, 0, 0, 0, 0, 0, 0, 0, 0, 0, 0, 0, 0, 1, 0, 0, 0, 0, 0, 0, 0, 0, 0, 0, 0, 0, 0, 0, 0, 0, 1, 1, 0, 1, 1, 0, 1, 0]"
     ]
    }
   ],
   "source": [
    "!curl http://127.0.0.1:5000/invocations -H 'Content-Type: application/json' -d {data}"
   ]
  },
  {
   "cell_type": "code",
   "execution_count": null,
   "id": "6cd7ea6b-19bd-428f-9217-17814976d657",
   "metadata": {},
   "outputs": [],
   "source": []
  }
 ],
 "metadata": {
  "kernelspec": {
   "display_name": "Python 3 (ipykernel)",
   "language": "python",
   "name": "python3"
  },
  "language_info": {
   "codemirror_mode": {
    "name": "ipython",
    "version": 3
   },
   "file_extension": ".py",
   "mimetype": "text/x-python",
   "name": "python",
   "nbconvert_exporter": "python",
   "pygments_lexer": "ipython3",
   "version": "3.8.10"
  }
 },
 "nbformat": 4,
 "nbformat_minor": 5
}
